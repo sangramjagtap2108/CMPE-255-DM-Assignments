{
  "nbformat": 4,
  "nbformat_minor": 0,
  "metadata": {
    "colab": {
      "provenance": []
    },
    "kernelspec": {
      "name": "python3",
      "display_name": "Python 3"
    },
    "language_info": {
      "name": "python"
    }
  },
  "cells": [
    {
      "cell_type": "code",
      "execution_count": 1,
      "metadata": {
        "colab": {
          "base_uri": "https://localhost:8080/"
        },
        "id": "n0aER3-idrtm",
        "outputId": "6021e86d-55c9-431e-c3e9-ae873847f595"
      },
      "outputs": [
        {
          "output_type": "stream",
          "name": "stdout",
          "text": [
            "Mounted at /content/gdrive\n"
          ]
        }
      ],
      "source": [
        "from google.colab import drive\n",
        "drive.mount('/content/gdrive')"
      ]
    },
    {
      "cell_type": "code",
      "source": [
        "import zipfile\n",
        "import os\n",
        "\n",
        "# Path to the zip file\n",
        "zip_file_path = '/content/gdrive/MyDrive/Dataset/Chord Dataset.zip'\n",
        "extraction_path = 'Chord_Dataset'\n",
        "\n",
        "# Unzipping the dataset\n",
        "with zipfile.ZipFile(zip_file_path, 'r') as zip_ref:\n",
        "    zip_ref.extractall(extraction_path)\n",
        "\n",
        "print(f\"Extracted files to {extraction_path}\")"
      ],
      "metadata": {
        "colab": {
          "base_uri": "https://localhost:8080/"
        },
        "id": "zFAdHAardtEj",
        "outputId": "314a1600-9ec0-40b3-a21b-c00b76a1f2d8"
      },
      "execution_count": 2,
      "outputs": [
        {
          "output_type": "stream",
          "name": "stdout",
          "text": [
            "Extracted files to Chord_Dataset\n"
          ]
        }
      ]
    },
    {
      "cell_type": "code",
      "source": [
        "import librosa\n",
        "import numpy as np\n",
        "\n",
        "# Function to load and preprocess audio files\n",
        "def load_audio_files(directory):\n",
        "    audio_files = []\n",
        "    for filename in os.listdir(directory):\n",
        "        if filename.endswith('.wav'):\n",
        "            path = os.path.join(directory, filename)\n",
        "            audio, sr = librosa.load(path, sr=None)\n",
        "            audio_files.append((audio, sr))\n",
        "    return audio_files\n",
        "\n",
        "audio_data = load_audio_files(extraction_path)\n",
        "print(f\"Loaded {len(audio_data)} audio files.\")"
      ],
      "metadata": {
        "colab": {
          "base_uri": "https://localhost:8080/"
        },
        "id": "OWLVaviBeCfc",
        "outputId": "498b56b1-abe8-4b58-a29d-a1bffaa5ca95"
      },
      "execution_count": 3,
      "outputs": [
        {
          "output_type": "stream",
          "name": "stdout",
          "text": [
            "Loaded 0 audio files.\n"
          ]
        }
      ]
    },
    {
      "cell_type": "code",
      "source": [
        "# Function to generate embeddings\n",
        "def generate_embeddings(audio, sr):\n",
        "    # Replace this with the actual code to generate embeddings using ImageBind LLMs\n",
        "    # This example returns a random vector as a placeholder\n",
        "    return np.random.rand(128)\n",
        "\n",
        "# Generate embeddings for each audio file\n",
        "embeddings = [generate_embeddings(audio, sr) for audio, sr in audio_data]\n",
        "print(\"Generated embeddings for all audio files.\")"
      ],
      "metadata": {
        "colab": {
          "base_uri": "https://localhost:8080/"
        },
        "id": "-JOGVVNreJkf",
        "outputId": "d252bc81-0af6-436a-bcb5-f9bbca9a110e"
      },
      "execution_count": 6,
      "outputs": [
        {
          "output_type": "stream",
          "name": "stdout",
          "text": [
            "Generated embeddings for all audio files.\n"
          ]
        }
      ]
    },
    {
      "cell_type": "code",
      "source": [
        "from sklearn.decomposition import PCA\n",
        "import matplotlib.pyplot as plt\n",
        "\n",
        "if not embeddings:\n",
        "    print(\"No embeddings were generated. Please check the audio data and embedding generation process.\")\n",
        "else:\n",
        "    # Check if all embeddings have the same shape\n",
        "    embedding_length = len(embeddings[0])\n",
        "    if all(len(embedding) == embedding_length for embedding in embeddings):\n",
        "        # Apply PCA\n",
        "        pca = PCA(n_components=2)\n",
        "        reduced_embeddings = pca.fit_transform(embeddings)\n",
        "\n",
        "        # Plotting the embeddings\n",
        "        plt.scatter(reduced_embeddings[:, 0], reduced_embeddings[:, 1])\n",
        "        plt.xlabel('Component 1')\n",
        "        plt.ylabel('Component 2')\n",
        "        plt.title('Audio Embeddings Visualization')\n",
        "        plt.show()\n",
        "    else:\n",
        "        print(\"Inconsistent embedding sizes. All embeddings must be of the same length.\")"
      ],
      "metadata": {
        "colab": {
          "base_uri": "https://localhost:8080/"
        },
        "id": "LM8gOIz0gKbR",
        "outputId": "6ad941b1-638a-4c7d-dcfb-15091ab9619b"
      },
      "execution_count": 8,
      "outputs": [
        {
          "output_type": "stream",
          "name": "stdout",
          "text": [
            "No embeddings were generated. Please check the audio data and embedding generation process.\n"
          ]
        }
      ]
    },
    {
      "cell_type": "code",
      "source": [],
      "metadata": {
        "id": "zpAJElC9gSeT"
      },
      "execution_count": null,
      "outputs": []
    }
  ]
}