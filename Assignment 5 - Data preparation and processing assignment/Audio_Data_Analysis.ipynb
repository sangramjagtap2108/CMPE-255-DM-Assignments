{
  "nbformat": 4,
  "nbformat_minor": 0,
  "metadata": {
    "colab": {
      "provenance": []
    },
    "kernelspec": {
      "name": "python3",
      "display_name": "Python 3"
    },
    "language_info": {
      "name": "python"
    }
  },
  "cells": [
    {
      "cell_type": "code",
      "execution_count": 1,
      "metadata": {
        "colab": {
          "base_uri": "https://localhost:8080/"
        },
        "id": "tWorURSNAu1z",
        "outputId": "a7449f1c-69d4-4016-81f5-dabb9ac1a388"
      },
      "outputs": [
        {
          "output_type": "stream",
          "name": "stdout",
          "text": [
            "Mounted at /content/gdrive\n"
          ]
        }
      ],
      "source": [
        "from google.colab import drive\n",
        "drive.mount('/content/gdrive')"
      ]
    },
    {
      "cell_type": "markdown",
      "source": [
        "**Exploratory Data Analysis (EDA)**"
      ],
      "metadata": {
        "id": "h01WHhEbMZiD"
      }
    },
    {
      "cell_type": "code",
      "source": [
        "import os\n",
        "import zipfile\n",
        "\n",
        "# Unzipping the dataset\n",
        "zip_path = \"/content/gdrive/MyDrive/Data Preprocessing Datasets/Chord Dataset.zip\"\n",
        "extract_path = \"/content/gdrive/MyDrive/Data Preprocessing Datasets/Chord Dataset\"\n",
        "\n",
        "with zipfile.ZipFile(zip_path, 'r') as zip_ref:\n",
        "    zip_ref.extractall(extract_path)"
      ],
      "metadata": {
        "id": "UcO9JxfgAv1C"
      },
      "execution_count": 10,
      "outputs": []
    },
    {
      "cell_type": "code",
      "source": [
        "inner_directory = os.path.join(extract_path, \"Chord Dataset\")\n",
        "os.listdir(inner_directory)"
      ],
      "metadata": {
        "colab": {
          "base_uri": "https://localhost:8080/"
        },
        "id": "Tz1mLuZIBI9w",
        "outputId": "49d57612-8ec2-44d1-bf79-5af0402cbb3b"
      },
      "execution_count": 11,
      "outputs": [
        {
          "output_type": "execute_result",
          "data": {
            "text/plain": [
              "['Major', 'Minor']"
            ]
          },
          "metadata": {},
          "execution_count": 11
        }
      ]
    },
    {
      "cell_type": "code",
      "source": [
        "major_directory = os.path.join(inner_directory, \"Major\")\n",
        "minor_directory = os.path.join(inner_directory, \"Minor\")"
      ],
      "metadata": {
        "id": "Nnn-ZA3EBXWp"
      },
      "execution_count": 12,
      "outputs": []
    },
    {
      "cell_type": "code",
      "source": [
        "# Counting the number of audio files in both \"Major\" and \"Minor\" directories\n",
        "major_files = [f for f in os.listdir(major_directory) if f.endswith('.wav')]\n",
        "minor_directory = os.path.join(inner_directory, \"Minor\")\n",
        "minor_files = [f for f in os.listdir(minor_directory) if f.endswith('.wav')]\n",
        "\n",
        "len(major_files), len(minor_files)"
      ],
      "metadata": {
        "colab": {
          "base_uri": "https://localhost:8080/"
        },
        "id": "XGaPQiyKCW3c",
        "outputId": "caecf628-fcef-4cac-b96f-5bb4deb423b9"
      },
      "execution_count": 15,
      "outputs": [
        {
          "output_type": "execute_result",
          "data": {
            "text/plain": [
              "(10, 10)"
            ]
          },
          "metadata": {},
          "execution_count": 15
        }
      ]
    },
    {
      "cell_type": "code",
      "source": [
        "import wave\n",
        "\n",
        "def extract_audio_properties_wave(file_path):\n",
        "    with wave.open(file_path, 'rb') as wf:\n",
        "        n_frames = wf.getnframes()\n",
        "        frame_rate = wf.getframerate()\n",
        "        duration = n_frames / float(frame_rate)\n",
        "        return {\"sample_rate\": frame_rate, \"duration\": duration}"
      ],
      "metadata": {
        "id": "Lo53dahtCJic"
      },
      "execution_count": 16,
      "outputs": []
    },
    {
      "cell_type": "code",
      "source": [
        "# Redefining the file paths for the sample audio files\n",
        "sample_major_file = os.path.join(major_directory, major_files[0])\n",
        "sample_minor_file = os.path.join(minor_directory, minor_files[0])\n",
        "\n",
        "# Extract properties from the sample files using the updated method\n",
        "major_properties_wave = extract_audio_properties_wave(sample_major_file)\n",
        "minor_properties_wave = extract_audio_properties_wave(sample_minor_file)\n",
        "\n",
        "major_properties_wave, minor_properties_wave\n"
      ],
      "metadata": {
        "colab": {
          "base_uri": "https://localhost:8080/"
        },
        "id": "EoCgHj7aBbo7",
        "outputId": "55b56902-2ad0-491a-e39a-3bf40fd22dfe"
      },
      "execution_count": 17,
      "outputs": [
        {
          "output_type": "execute_result",
          "data": {
            "text/plain": [
              "({'sample_rate': 44100, 'duration': 2.25},\n",
              " {'sample_rate': 44100, 'duration': 2.25})"
            ]
          },
          "metadata": {},
          "execution_count": 17
        }
      ]
    },
    {
      "cell_type": "markdown",
      "source": [
        "**Data Preprocessing**"
      ],
      "metadata": {
        "id": "yi0SVnmOMrqr"
      }
    },
    {
      "cell_type": "code",
      "source": [
        "from scipy.fft import fft\n",
        "import numpy as np\n",
        "\n",
        "# Function to extract power spectrum features from an audio file using the wave module\n",
        "def extract_power_spectrum_features(file_path):\n",
        "    # Load the audio file using wave module\n",
        "    with wave.open(file_path, 'rb') as wf:\n",
        "        signal = np.frombuffer(wf.readframes(wf.getnframes()), dtype=np.int16)\n",
        "\n",
        "    # Calculate the Fourier Transform of the signal\n",
        "    spectrum = fft(signal)\n",
        "\n",
        "    # Calculate the power spectrum\n",
        "    power_spectrum = np.abs(spectrum[:len(spectrum)//2])\n",
        "\n",
        "    return power_spectrum"
      ],
      "metadata": {
        "id": "d3_WyrpZBopg"
      },
      "execution_count": 18,
      "outputs": []
    },
    {
      "cell_type": "code",
      "source": [
        "# Extract power spectrum features for all audio files\n",
        "major_features = [extract_power_spectrum_features(os.path.join(major_directory, file)) for file in major_files]\n",
        "minor_features = [extract_power_spectrum_features(os.path.join(minor_directory, file)) for file in minor_files]\n",
        "\n",
        "# Convert lists to numpy arrays for easier manipulation\n",
        "major_features = np.array(major_features)\n",
        "minor_features = np.array(minor_features)"
      ],
      "metadata": {
        "colab": {
          "base_uri": "https://localhost:8080/"
        },
        "id": "IyMGYJ3ACxyf",
        "outputId": "621dc8d2-cd57-47fb-ff52-f2f32df7fb74"
      },
      "execution_count": 20,
      "outputs": [
        {
          "output_type": "stream",
          "name": "stderr",
          "text": [
            "<ipython-input-20-d5853b2f5b5c>:6: VisibleDeprecationWarning: Creating an ndarray from ragged nested sequences (which is a list-or-tuple of lists-or-tuples-or ndarrays with different lengths or shapes) is deprecated. If you meant to do this, you must specify 'dtype=object' when creating the ndarray.\n",
            "  major_features = np.array(major_features)\n",
            "<ipython-input-20-d5853b2f5b5c>:7: VisibleDeprecationWarning: Creating an ndarray from ragged nested sequences (which is a list-or-tuple of lists-or-tuples-or ndarrays with different lengths or shapes) is deprecated. If you meant to do this, you must specify 'dtype=object' when creating the ndarray.\n",
            "  minor_features = np.array(minor_features)\n"
          ]
        }
      ]
    },
    {
      "cell_type": "code",
      "source": [
        "# Determine the maximum length among all feature arrays\n",
        "max_length = max(max([len(feature) for feature in major_features]),\n",
        "                max([len(feature) for feature in minor_features]))\n",
        "\n",
        "# Function to truncate or zero-pad the feature arrays to ensure uniform length\n",
        "def pad_features(features, max_length):\n",
        "    padded_features = []\n",
        "    for feature in features:\n",
        "        if len(feature) < max_length:\n",
        "            # Zero-pad\n",
        "            padded_feature = np.pad(feature, (0, max_length - len(feature)))\n",
        "        else:\n",
        "            # Truncate\n",
        "            padded_feature = feature[:max_length]\n",
        "        padded_features.append(padded_feature)\n",
        "    return np.array(padded_features)"
      ],
      "metadata": {
        "id": "766CNzBBCzit"
      },
      "execution_count": 21,
      "outputs": []
    },
    {
      "cell_type": "code",
      "source": [
        "# Pad the features for both major and minor categories\n",
        "major_features_padded = pad_features(major_features, max_length)\n",
        "minor_features_padded = pad_features(minor_features, max_length)\n",
        "\n",
        "major_features_padded.shape, minor_features_padded.shape"
      ],
      "metadata": {
        "colab": {
          "base_uri": "https://localhost:8080/"
        },
        "id": "jn0xpdcIC85C",
        "outputId": "786d9ef9-4546-4776-dc98-520a744141b1"
      },
      "execution_count": 22,
      "outputs": [
        {
          "output_type": "execute_result",
          "data": {
            "text/plain": [
              "((10, 50714), (10, 50714))"
            ]
          },
          "metadata": {},
          "execution_count": 22
        }
      ]
    },
    {
      "cell_type": "code",
      "source": [
        "from sklearn.preprocessing import StandardScaler\n",
        "\n",
        "# Normalize the features using StandardScaler\n",
        "scaler = StandardScaler()\n",
        "all_features = np.vstack((major_features_padded, minor_features_padded))\n",
        "scaler.fit(all_features)\n",
        "\n",
        "major_features_normalized = scaler.transform(major_features_padded)\n",
        "minor_features_normalized = scaler.transform(minor_features_padded)\n",
        "\n",
        "major_features_normalized.shape, minor_features_normalized.shape"
      ],
      "metadata": {
        "colab": {
          "base_uri": "https://localhost:8080/"
        },
        "id": "mRB4VwbmC90B",
        "outputId": "06a29de6-d9da-4f89-b8cf-ab3f1cafacaa"
      },
      "execution_count": 23,
      "outputs": [
        {
          "output_type": "execute_result",
          "data": {
            "text/plain": [
              "((10, 50714), (10, 50714))"
            ]
          },
          "metadata": {},
          "execution_count": 23
        }
      ]
    },
    {
      "cell_type": "code",
      "source": [
        "from sklearn.model_selection import train_test_split\n",
        "\n",
        "# Combine the features and assign labels\n",
        "X = np.vstack((major_features_normalized, minor_features_normalized))\n",
        "y = np.array([0] * len(major_features_normalized) + [1] * len(minor_features_normalized))\n",
        "\n",
        "# Split the dataset into training and test sets (80% train, 20% test)\n",
        "X_train, X_test, y_train, y_test = train_test_split(X, y, test_size=0.2, random_state=42)\n",
        "\n",
        "X_train.shape, X_test.shape, y_train.shape, y_test.shape"
      ],
      "metadata": {
        "colab": {
          "base_uri": "https://localhost:8080/"
        },
        "id": "TFUF9HJuDBWW",
        "outputId": "c7aa1b6d-5e4b-4817-ca2c-019fa97b576d"
      },
      "execution_count": 24,
      "outputs": [
        {
          "output_type": "execute_result",
          "data": {
            "text/plain": [
              "((16, 50714), (4, 50714), (16,), (4,))"
            ]
          },
          "metadata": {},
          "execution_count": 24
        }
      ]
    },
    {
      "cell_type": "code",
      "source": [
        "pip install h2o"
      ],
      "metadata": {
        "colab": {
          "base_uri": "https://localhost:8080/"
        },
        "id": "QYjQ7vXOEpk4",
        "outputId": "5800cc6e-7e83-4cd2-a49f-78a530db8cac"
      },
      "execution_count": 26,
      "outputs": [
        {
          "output_type": "stream",
          "name": "stdout",
          "text": [
            "Collecting h2o\n",
            "  Downloading h2o-3.44.0.1.tar.gz (257.4 MB)\n",
            "\u001b[2K     \u001b[90m━━━━━━━━━━━━━━━━━━━━━━━━━━━━━━━━━━━━━━━━\u001b[0m \u001b[32m257.4/257.4 MB\u001b[0m \u001b[31m5.6 MB/s\u001b[0m eta \u001b[36m0:00:00\u001b[0m\n",
            "\u001b[?25h  Preparing metadata (setup.py) ... \u001b[?25l\u001b[?25hdone\n",
            "Requirement already satisfied: requests in /usr/local/lib/python3.10/dist-packages (from h2o) (2.31.0)\n",
            "Requirement already satisfied: tabulate in /usr/local/lib/python3.10/dist-packages (from h2o) (0.9.0)\n",
            "Requirement already satisfied: charset-normalizer<4,>=2 in /usr/local/lib/python3.10/dist-packages (from requests->h2o) (3.3.1)\n",
            "Requirement already satisfied: idna<4,>=2.5 in /usr/local/lib/python3.10/dist-packages (from requests->h2o) (3.4)\n",
            "Requirement already satisfied: urllib3<3,>=1.21.1 in /usr/local/lib/python3.10/dist-packages (from requests->h2o) (2.0.7)\n",
            "Requirement already satisfied: certifi>=2017.4.17 in /usr/local/lib/python3.10/dist-packages (from requests->h2o) (2023.7.22)\n",
            "Building wheels for collected packages: h2o\n",
            "  Building wheel for h2o (setup.py) ... \u001b[?25l\u001b[?25hdone\n",
            "  Created wheel for h2o: filename=h2o-3.44.0.1-py2.py3-none-any.whl size=257484150 sha256=2de689443afbee18d3731d3727503c8523c86bddd0880ae1c026e093a8eaa4d7\n",
            "  Stored in directory: /root/.cache/pip/wheels/d9/9b/ca/7345b72d17e1e17da37239d70631c3214ec9e541b0c9e700e2\n",
            "Successfully built h2o\n",
            "Installing collected packages: h2o\n",
            "Successfully installed h2o-3.44.0.1\n"
          ]
        }
      ]
    },
    {
      "cell_type": "markdown",
      "source": [
        "**Model Building using H2O AutoML**"
      ],
      "metadata": {
        "id": "NdxoG7M1M6ur"
      }
    },
    {
      "cell_type": "code",
      "source": [
        "import h2o\n",
        "from h2o.automl import H2OAutoML\n",
        "\n",
        "h2o.init(max_mem_size=\"4G\")"
      ],
      "metadata": {
        "colab": {
          "base_uri": "https://localhost:8080/",
          "height": 544
        },
        "id": "LlYr4LZ7DE_W",
        "outputId": "e103921e-63f8-422f-f602-77ccf9385c3f"
      },
      "execution_count": 27,
      "outputs": [
        {
          "output_type": "stream",
          "name": "stdout",
          "text": [
            "Checking whether there is an H2O instance running at http://localhost:54321..... not found.\n",
            "Attempting to start a local H2O server...\n",
            "  Java Version: openjdk version \"11.0.20.1\" 2023-08-24; OpenJDK Runtime Environment (build 11.0.20.1+1-post-Ubuntu-0ubuntu122.04); OpenJDK 64-Bit Server VM (build 11.0.20.1+1-post-Ubuntu-0ubuntu122.04, mixed mode, sharing)\n",
            "  Starting server from /usr/local/lib/python3.10/dist-packages/h2o/backend/bin/h2o.jar\n",
            "  Ice root: /tmp/tmpz756wmoj\n",
            "  JVM stdout: /tmp/tmpz756wmoj/h2o_unknownUser_started_from_python.out\n",
            "  JVM stderr: /tmp/tmpz756wmoj/h2o_unknownUser_started_from_python.err\n",
            "  Server is running at http://127.0.0.1:54321\n",
            "Connecting to H2O server at http://127.0.0.1:54321 ... successful.\n"
          ]
        },
        {
          "output_type": "display_data",
          "data": {
            "text/plain": [
              "--------------------------  -----------------------------------------------------------------------------------------\n",
              "H2O_cluster_uptime:         02 secs\n",
              "H2O_cluster_timezone:       Etc/UTC\n",
              "H2O_data_parsing_timezone:  UTC\n",
              "H2O_cluster_version:        3.44.0.1\n",
              "H2O_cluster_version_age:    15 days\n",
              "H2O_cluster_name:           H2O_from_python_unknownUser_u4a272\n",
              "H2O_cluster_total_nodes:    1\n",
              "H2O_cluster_free_memory:    4 Gb\n",
              "H2O_cluster_total_cores:    2\n",
              "H2O_cluster_allowed_cores:  2\n",
              "H2O_cluster_status:         locked, healthy\n",
              "H2O_connection_url:         http://127.0.0.1:54321\n",
              "H2O_connection_proxy:       {\"http\": null, \"https\": null, \"colab_language_server\": \"/usr/colab/bin/language_service\"}\n",
              "H2O_internal_security:      False\n",
              "Python_version:             3.10.12 final\n",
              "--------------------------  -----------------------------------------------------------------------------------------"
            ],
            "text/html": [
              "\n",
              "<style>\n",
              "\n",
              "#h2o-table-1.h2o-container {\n",
              "  overflow-x: auto;\n",
              "}\n",
              "#h2o-table-1 .h2o-table {\n",
              "  /* width: 100%; */\n",
              "  margin-top: 1em;\n",
              "  margin-bottom: 1em;\n",
              "}\n",
              "#h2o-table-1 .h2o-table caption {\n",
              "  white-space: nowrap;\n",
              "  caption-side: top;\n",
              "  text-align: left;\n",
              "  /* margin-left: 1em; */\n",
              "  margin: 0;\n",
              "  font-size: larger;\n",
              "}\n",
              "#h2o-table-1 .h2o-table thead {\n",
              "  white-space: nowrap; \n",
              "  position: sticky;\n",
              "  top: 0;\n",
              "  box-shadow: 0 -1px inset;\n",
              "}\n",
              "#h2o-table-1 .h2o-table tbody {\n",
              "  overflow: auto;\n",
              "}\n",
              "#h2o-table-1 .h2o-table th,\n",
              "#h2o-table-1 .h2o-table td {\n",
              "  text-align: right;\n",
              "  /* border: 1px solid; */\n",
              "}\n",
              "#h2o-table-1 .h2o-table tr:nth-child(even) {\n",
              "  /* background: #F5F5F5 */\n",
              "}\n",
              "\n",
              "</style>      \n",
              "<div id=\"h2o-table-1\" class=\"h2o-container\">\n",
              "  <table class=\"h2o-table\">\n",
              "    <caption></caption>\n",
              "    <thead></thead>\n",
              "    <tbody><tr><td>H2O_cluster_uptime:</td>\n",
              "<td>02 secs</td></tr>\n",
              "<tr><td>H2O_cluster_timezone:</td>\n",
              "<td>Etc/UTC</td></tr>\n",
              "<tr><td>H2O_data_parsing_timezone:</td>\n",
              "<td>UTC</td></tr>\n",
              "<tr><td>H2O_cluster_version:</td>\n",
              "<td>3.44.0.1</td></tr>\n",
              "<tr><td>H2O_cluster_version_age:</td>\n",
              "<td>15 days</td></tr>\n",
              "<tr><td>H2O_cluster_name:</td>\n",
              "<td>H2O_from_python_unknownUser_u4a272</td></tr>\n",
              "<tr><td>H2O_cluster_total_nodes:</td>\n",
              "<td>1</td></tr>\n",
              "<tr><td>H2O_cluster_free_memory:</td>\n",
              "<td>4 Gb</td></tr>\n",
              "<tr><td>H2O_cluster_total_cores:</td>\n",
              "<td>2</td></tr>\n",
              "<tr><td>H2O_cluster_allowed_cores:</td>\n",
              "<td>2</td></tr>\n",
              "<tr><td>H2O_cluster_status:</td>\n",
              "<td>locked, healthy</td></tr>\n",
              "<tr><td>H2O_connection_url:</td>\n",
              "<td>http://127.0.0.1:54321</td></tr>\n",
              "<tr><td>H2O_connection_proxy:</td>\n",
              "<td>{\"http\": null, \"https\": null, \"colab_language_server\": \"/usr/colab/bin/language_service\"}</td></tr>\n",
              "<tr><td>H2O_internal_security:</td>\n",
              "<td>False</td></tr>\n",
              "<tr><td>Python_version:</td>\n",
              "<td>3.10.12 final</td></tr></tbody>\n",
              "  </table>\n",
              "</div>\n"
            ]
          },
          "metadata": {}
        }
      ]
    },
    {
      "cell_type": "code",
      "source": [
        "# Combine features and labels for ease of conversion\n",
        "data = np.hstack((X, y.reshape(-1, 1)))\n",
        "h2o_frame = h2o.H2OFrame(data)\n",
        "\n",
        "# Specify the name of the target variable\n",
        "target = h2o_frame.columns[-1]\n",
        "predictors = h2o_frame.columns[:-1]\n",
        "\n",
        "# Split the data into train and test sets (you can use the same split ratio as before)\n",
        "train, test = h2o_frame.split_frame(ratios=[0.8], seed=42)"
      ],
      "metadata": {
        "colab": {
          "base_uri": "https://localhost:8080/"
        },
        "id": "ZmeUjjpDEadu",
        "outputId": "2dec19d6-a8a6-46cc-e892-a1e2c6104bf2"
      },
      "execution_count": 28,
      "outputs": [
        {
          "output_type": "stream",
          "name": "stdout",
          "text": [
            "Parse progress: |████████████████████████████████████████████████████████████████| (done) 100%\n"
          ]
        }
      ]
    },
    {
      "cell_type": "code",
      "source": [
        "# Set a maximum time for the AutoML run and other configuration parameters as needed\n",
        "aml = H2OAutoML(max_runtime_secs=600, seed=42, project_name=\"Chord_Classification\")\n",
        "aml.train(x=predictors, y=target, training_frame=train)"
      ],
      "metadata": {
        "colab": {
          "base_uri": "https://localhost:8080/",
          "height": 1000
        },
        "id": "oTKT_vuRFKBw",
        "outputId": "896d9175-124f-4844-d2fe-3811ef314309"
      },
      "execution_count": 29,
      "outputs": [
        {
          "output_type": "stream",
          "name": "stdout",
          "text": [
            "AutoML progress: |\n",
            "23:34:42.43: _response param, We have detected that your response column has only 2 unique values (0/1). If you wish to train a binary model instead of a regression model, convert your target column to categorical before training.\n",
            "\n",
            "████████████\n",
            "23:36:28.765: _response param, We have detected that your response column has only 2 unique values (0/1). If you wish to train a binary model instead of a regression model, convert your target column to categorical before training.\n",
            "\n",
            "████████████████████████████\n",
            "23:41:03.131: _response param, We have detected that your response column has only 2 unique values (0/1). If you wish to train a binary model instead of a regression model, convert your target column to categorical before training.\n",
            "23:41:03.131: _min_rows param, The dataset size is too small to split for min_rows=100.0: must have at least 200.0 (weighted) rows, but have only 18.0.\n",
            "\n",
            "\n",
            "23:41:03.873: _response param, We have detected that your response column has only 2 unique values (0/1). If you wish to train a binary model instead of a regression model, convert your target column to categorical before training.\n",
            "\n",
            "█\n",
            "23:41:08.889: _response param, We have detected that your response column has only 2 unique values (0/1). If you wish to train a binary model instead of a regression model, convert your target column to categorical before training.\n",
            "\n",
            "████████\n",
            "23:42:31.716: _response param, We have detected that your response column has only 2 unique values (0/1). If you wish to train a binary model instead of a regression model, convert your target column to categorical before training.\n",
            "\n",
            "█████████\n",
            "23:43:56.366: _response param, We have detected that your response column has only 2 unique values (0/1). If you wish to train a binary model instead of a regression model, convert your target column to categorical before training.\n",
            "23:43:56.366: _min_rows param, The dataset size is too small to split for min_rows=10.0: must have at least 20.0 (weighted) rows, but have only 18.0.\n",
            "\n",
            "\n",
            "23:43:56.991: _response param, We have detected that your response column has only 2 unique values (0/1). If you wish to train a binary model instead of a regression model, convert your target column to categorical before training.\n",
            "23:43:56.991: _min_rows param, The dataset size is too small to split for min_rows=10.0: must have at least 20.0 (weighted) rows, but have only 18.0.\n",
            "\n",
            "\n",
            "23:43:57.443: _response param, We have detected that your response column has only 2 unique values (0/1). If you wish to train a binary model instead of a regression model, convert your target column to categorical before training.\n",
            "23:43:57.443: _min_rows param, The dataset size is too small to split for min_rows=10.0: must have at least 20.0 (weighted) rows, but have only 18.0.\n",
            "23:43:57.887: _response param, We have detected that your response column has only 2 unique values (0/1). If you wish to train a binary model instead of a regression model, convert your target column to categorical before training.\n",
            "\n",
            "\n",
            "23:44:00.860: _response param, We have detected that your response column has only 2 unique values (0/1). If you wish to train a binary model instead of a regression model, convert your target column to categorical before training.\n",
            "\n",
            "█\n",
            "23:44:05.458: _response param, We have detected that your response column has only 2 unique values (0/1). If you wish to train a binary model instead of a regression model, convert your target column to categorical before training.\n",
            "\n",
            "████| (done) 100%\n"
          ]
        },
        {
          "output_type": "execute_result",
          "data": {
            "text/plain": [
              "Model Details\n",
              "=============\n",
              "H2OGeneralizedLinearEstimator : Generalized Linear Modeling\n",
              "Model Key: GLM_1_AutoML_1_20231031_233440\n",
              "\n",
              "\n",
              "GLM Model: summary\n",
              "    family    link      regularization             lambda_search                                                                number_of_predictors_total    number_of_active_predictors    number_of_iterations    training_frame\n",
              "--  --------  --------  -------------------------  ---------------------------------------------------------------------------  ----------------------------  -----------------------------  ----------------------  -----------------------------------------------\n",
              "    gaussian  identity  Ridge ( lambda = 29.022 )  nlambda = 30, lambda.max = 39.871, lambda.min = 29.022, lambda.1se = 29.022  50714                         50714                          2                       AutoML_1_20231031_233440_training_py_2_sid_90d1\n",
              "\n",
              "ModelMetricsRegressionGLM: glm\n",
              "** Reported on train data. **\n",
              "\n",
              "MSE: 0.1826294103835521\n",
              "RMSE: 0.42735162382229475\n",
              "MAE: 0.4140290432923701\n",
              "RMSLE: 0.3023191685737106\n",
              "Mean Residual Deviance: 0.1826294103835521\n",
              "R^2: 0.260350887946614\n",
              "Null degrees of freedom: 17\n",
              "Residual degrees of freedom: -50697\n",
              "Null deviance: 4.444444444444445\n",
              "Residual deviance: 3.287329386903938\n",
              "AIC: 101452.47645452872\n",
              "\n",
              "ModelMetricsRegressionGLM: glm\n",
              "** Reported on cross-validation data. **\n",
              "\n",
              "MSE: 0.20903473998172742\n",
              "RMSE: 0.4572031714475824\n",
              "MAE: 0.43710815051362\n",
              "RMSLE: 0.32593949830233093\n",
              "Mean Residual Deviance: 0.20903473998172742\n",
              "R^2: 0.1534093030740039\n",
              "Null degrees of freedom: 17\n",
              "Residual degrees of freedom: -50697\n",
              "Null deviance: 4.501224489795917\n",
              "Residual deviance: 3.7626253196710935\n",
              "AIC: 101454.90720042057\n",
              "\n",
              "Cross-Validation Metrics Summary: \n",
              "                        mean      sd         cv_1_valid    cv_2_valid    cv_3_valid    cv_4_valid    cv_5_valid\n",
              "----------------------  --------  ---------  ------------  ------------  ------------  ------------  ------------\n",
              "mae                     0.408976  0.076825   0.333838      0.514282      0.333006      0.426744      0.437012\n",
              "mean_residual_deviance  0.194321  0.0561076  0.158084      0.275755      0.128066      0.209103      0.2006\n",
              "mse                     0.194321  0.0561076  0.158084      0.275755      0.128066      0.209103      0.2006\n",
              "null_deviance           0.900245  0.16454    1.02041       1.02041       1.02041       0.72          0.72\n",
              "r2                      0.181744  0.240559   0.367664      -0.10302      0.487736      0.0590383     0.0973013\n",
              "residual_deviance       0.695345  0.232952   0.632336      1.10302       0.512264      0.627308      0.601799\n",
              "rmse                    0.437149  0.0634635  0.397598      0.525124      0.357863      0.457277      0.447884\n",
              "rmsle                   0.312577  0.031794   0.284296      0.357438      0.279531      0.319471      0.322146\n",
              "\n",
              "Scoring History: \n",
              "    timestamp            duration    iteration    lambda    predictors    deviance_train    deviance_xval    deviance_se    alpha    iterations    training_rmse        training_deviance    training_mae        training_r2\n",
              "--  -------------------  ----------  -----------  --------  ------------  ----------------  ---------------  -------------  -------  ------------  -------------------  -------------------  ------------------  -----------------\n",
              "    2023-10-31 23:40:50  0.000 sec   1            40        50715         0.411431          0.301078         0.0598974      0\n",
              "    2023-10-31 23:40:54  3.762 sec   2            29        50715         0.365259          0.210042         0.0200049      0\n",
              "    2023-10-31 23:40:58  7.887 sec   3            21        50715         0.330775          0.236286         0.0327927      0        3             0.42735162382229475  0.1826294103835521   0.4140290432923701  0.260350887946614\n",
              "\n",
              "Variable Importances: \n",
              "variable    relative_importance     scaled_importance       percentage\n",
              "----------  ----------------------  ----------------------  ----------------------\n",
              "C937        3.907699283445254e-05   1.0                     0.00011253571457248158\n",
              "C938        3.857179035549052e-05   0.9870716131842007      0.00011108080932389616\n",
              "C936        3.797634053626098e-05   0.9718337513110485      0.00010936600564944422\n",
              "C910        3.7547946703853086e-05  0.9608709365872351      0.00010813229746077414\n",
              "C3093       3.675588595797308e-05   0.9406017017145434      0.00010585128463053832\n",
              "C911        3.6648638342740014e-05  0.9378571810272067      0.00010554242803382992\n",
              "C909        3.601804201025516e-05   0.9217199021133368      0.00010372640782000214\n",
              "C939        3.589362313505262e-05   0.9185359602033328      0.00010336810064200258\n",
              "C940        3.487011417746544e-05   0.8923438485963006      0.000100420552646143\n",
              "C935        3.4820357541320845e-05  0.891070551125449       0.00010027726120539739\n",
              "---         ---                     ---                     ---\n",
              "C28413      1.995063225734839e-09   5.1054676448282774e-05  5.7454744963743485e-09\n",
              "C33587      1.7215339154219578e-09  4.40549231286844e-05    4.957752254722245e-09\n",
              "C13960      1.383526293530224e-09   3.540513722208499e-05   3.9843424168240995e-09\n",
              "C34348      1.3664803732993391e-09  3.4968923506687316e-05  3.9352527946555055e-09\n",
              "C45158      1.2369598678674265e-09  3.165442830024656e-05   3.5622537081516306e-09\n",
              "C43800      1.1023590928971316e-09  2.820992642824931e-05   3.1746242286401692e-09\n",
              "C2470       1.0484038082125835e-09  2.682918341884921e-05   3.0192413274363703e-09\n",
              "C4656       7.453939687707134e-10   1.9075008456472907e-05  2.146619707125308e-09\n",
              "C23033      2.1646108516737428e-10  5.539348590215203e-06   6.233745518659364e-10\n",
              "C8591       1.6923717982564312e-10  4.330864980900829e-06   4.873769853426116e-10\n",
              "[50714 rows x 4 columns]\n",
              "\n",
              "\n",
              "[tips]\n",
              "Use `model.explain()` to inspect the model.\n",
              "--\n",
              "Use `h2o.display.toggle_user_tips()` to switch on/off this section."
            ],
            "text/html": [
              "<pre style='margin: 1em 0 1em 0;'>Model Details\n",
              "=============\n",
              "H2OGeneralizedLinearEstimator : Generalized Linear Modeling\n",
              "Model Key: GLM_1_AutoML_1_20231031_233440\n",
              "</pre>\n",
              "<div style='margin: 1em 0 1em 0;'>\n",
              "<style>\n",
              "\n",
              "#h2o-table-2.h2o-container {\n",
              "  overflow-x: auto;\n",
              "}\n",
              "#h2o-table-2 .h2o-table {\n",
              "  /* width: 100%; */\n",
              "  margin-top: 1em;\n",
              "  margin-bottom: 1em;\n",
              "}\n",
              "#h2o-table-2 .h2o-table caption {\n",
              "  white-space: nowrap;\n",
              "  caption-side: top;\n",
              "  text-align: left;\n",
              "  /* margin-left: 1em; */\n",
              "  margin: 0;\n",
              "  font-size: larger;\n",
              "}\n",
              "#h2o-table-2 .h2o-table thead {\n",
              "  white-space: nowrap; \n",
              "  position: sticky;\n",
              "  top: 0;\n",
              "  box-shadow: 0 -1px inset;\n",
              "}\n",
              "#h2o-table-2 .h2o-table tbody {\n",
              "  overflow: auto;\n",
              "}\n",
              "#h2o-table-2 .h2o-table th,\n",
              "#h2o-table-2 .h2o-table td {\n",
              "  text-align: right;\n",
              "  /* border: 1px solid; */\n",
              "}\n",
              "#h2o-table-2 .h2o-table tr:nth-child(even) {\n",
              "  /* background: #F5F5F5 */\n",
              "}\n",
              "\n",
              "</style>      \n",
              "<div id=\"h2o-table-2\" class=\"h2o-container\">\n",
              "  <table class=\"h2o-table\">\n",
              "    <caption>GLM Model: summary</caption>\n",
              "    <thead><tr><th></th>\n",
              "<th>family</th>\n",
              "<th>link</th>\n",
              "<th>regularization</th>\n",
              "<th>lambda_search</th>\n",
              "<th>number_of_predictors_total</th>\n",
              "<th>number_of_active_predictors</th>\n",
              "<th>number_of_iterations</th>\n",
              "<th>training_frame</th></tr></thead>\n",
              "    <tbody><tr><td></td>\n",
              "<td>gaussian</td>\n",
              "<td>identity</td>\n",
              "<td>Ridge ( lambda = 29.022 )</td>\n",
              "<td>nlambda = 30, lambda.max = 39.871, lambda.min = 29.022, lambda.1se = 29.022</td>\n",
              "<td>50714</td>\n",
              "<td>50714</td>\n",
              "<td>2</td>\n",
              "<td>AutoML_1_20231031_233440_training_py_2_sid_90d1</td></tr></tbody>\n",
              "  </table>\n",
              "</div>\n",
              "</div>\n",
              "<div style='margin: 1em 0 1em 0;'><pre style='margin: 1em 0 1em 0;'>ModelMetricsRegressionGLM: glm\n",
              "** Reported on train data. **\n",
              "\n",
              "MSE: 0.1826294103835521\n",
              "RMSE: 0.42735162382229475\n",
              "MAE: 0.4140290432923701\n",
              "RMSLE: 0.3023191685737106\n",
              "Mean Residual Deviance: 0.1826294103835521\n",
              "R^2: 0.260350887946614\n",
              "Null degrees of freedom: 17\n",
              "Residual degrees of freedom: -50697\n",
              "Null deviance: 4.444444444444445\n",
              "Residual deviance: 3.287329386903938\n",
              "AIC: 101452.47645452872</pre></div>\n",
              "<div style='margin: 1em 0 1em 0;'><pre style='margin: 1em 0 1em 0;'>ModelMetricsRegressionGLM: glm\n",
              "** Reported on cross-validation data. **\n",
              "\n",
              "MSE: 0.20903473998172742\n",
              "RMSE: 0.4572031714475824\n",
              "MAE: 0.43710815051362\n",
              "RMSLE: 0.32593949830233093\n",
              "Mean Residual Deviance: 0.20903473998172742\n",
              "R^2: 0.1534093030740039\n",
              "Null degrees of freedom: 17\n",
              "Residual degrees of freedom: -50697\n",
              "Null deviance: 4.501224489795917\n",
              "Residual deviance: 3.7626253196710935\n",
              "AIC: 101454.90720042057</pre></div>\n",
              "<div style='margin: 1em 0 1em 0;'>\n",
              "<style>\n",
              "\n",
              "#h2o-table-3.h2o-container {\n",
              "  overflow-x: auto;\n",
              "}\n",
              "#h2o-table-3 .h2o-table {\n",
              "  /* width: 100%; */\n",
              "  margin-top: 1em;\n",
              "  margin-bottom: 1em;\n",
              "}\n",
              "#h2o-table-3 .h2o-table caption {\n",
              "  white-space: nowrap;\n",
              "  caption-side: top;\n",
              "  text-align: left;\n",
              "  /* margin-left: 1em; */\n",
              "  margin: 0;\n",
              "  font-size: larger;\n",
              "}\n",
              "#h2o-table-3 .h2o-table thead {\n",
              "  white-space: nowrap; \n",
              "  position: sticky;\n",
              "  top: 0;\n",
              "  box-shadow: 0 -1px inset;\n",
              "}\n",
              "#h2o-table-3 .h2o-table tbody {\n",
              "  overflow: auto;\n",
              "}\n",
              "#h2o-table-3 .h2o-table th,\n",
              "#h2o-table-3 .h2o-table td {\n",
              "  text-align: right;\n",
              "  /* border: 1px solid; */\n",
              "}\n",
              "#h2o-table-3 .h2o-table tr:nth-child(even) {\n",
              "  /* background: #F5F5F5 */\n",
              "}\n",
              "\n",
              "</style>      \n",
              "<div id=\"h2o-table-3\" class=\"h2o-container\">\n",
              "  <table class=\"h2o-table\">\n",
              "    <caption>Cross-Validation Metrics Summary: </caption>\n",
              "    <thead><tr><th></th>\n",
              "<th>mean</th>\n",
              "<th>sd</th>\n",
              "<th>cv_1_valid</th>\n",
              "<th>cv_2_valid</th>\n",
              "<th>cv_3_valid</th>\n",
              "<th>cv_4_valid</th>\n",
              "<th>cv_5_valid</th></tr></thead>\n",
              "    <tbody><tr><td>mae</td>\n",
              "<td>0.4089764</td>\n",
              "<td>0.0768250</td>\n",
              "<td>0.3338380</td>\n",
              "<td>0.5142822</td>\n",
              "<td>0.3330057</td>\n",
              "<td>0.4267443</td>\n",
              "<td>0.4370116</td></tr>\n",
              "<tr><td>mean_residual_deviance</td>\n",
              "<td>0.1943215</td>\n",
              "<td>0.0561076</td>\n",
              "<td>0.1580841</td>\n",
              "<td>0.2757549</td>\n",
              "<td>0.1280660</td>\n",
              "<td>0.2091026</td>\n",
              "<td>0.2005997</td></tr>\n",
              "<tr><td>mse</td>\n",
              "<td>0.1943215</td>\n",
              "<td>0.0561076</td>\n",
              "<td>0.1580841</td>\n",
              "<td>0.2757549</td>\n",
              "<td>0.1280660</td>\n",
              "<td>0.2091026</td>\n",
              "<td>0.2005997</td></tr>\n",
              "<tr><td>null_deviance</td>\n",
              "<td>0.9002449</td>\n",
              "<td>0.1645403</td>\n",
              "<td>1.0204082</td>\n",
              "<td>1.0204082</td>\n",
              "<td>1.0204082</td>\n",
              "<td>0.72</td>\n",
              "<td>0.72</td></tr>\n",
              "<tr><td>r2</td>\n",
              "<td>0.1817439</td>\n",
              "<td>0.2405592</td>\n",
              "<td>0.3676636</td>\n",
              "<td>-0.1030195</td>\n",
              "<td>0.4877362</td>\n",
              "<td>0.0590383</td>\n",
              "<td>0.0973013</td></tr>\n",
              "<tr><td>residual_deviance</td>\n",
              "<td>0.6953453</td>\n",
              "<td>0.2329524</td>\n",
              "<td>0.6323364</td>\n",
              "<td>1.1030195</td>\n",
              "<td>0.5122638</td>\n",
              "<td>0.6273078</td>\n",
              "<td>0.6017992</td></tr>\n",
              "<tr><td>rmse</td>\n",
              "<td>0.4371491</td>\n",
              "<td>0.0634635</td>\n",
              "<td>0.3975979</td>\n",
              "<td>0.5251237</td>\n",
              "<td>0.3578630</td>\n",
              "<td>0.4572774</td>\n",
              "<td>0.4478836</td></tr>\n",
              "<tr><td>rmsle</td>\n",
              "<td>0.3125766</td>\n",
              "<td>0.0317940</td>\n",
              "<td>0.2842964</td>\n",
              "<td>0.3574383</td>\n",
              "<td>0.2795313</td>\n",
              "<td>0.3194708</td>\n",
              "<td>0.3221461</td></tr></tbody>\n",
              "  </table>\n",
              "</div>\n",
              "</div>\n",
              "<div style='margin: 1em 0 1em 0;'>\n",
              "<style>\n",
              "\n",
              "#h2o-table-4.h2o-container {\n",
              "  overflow-x: auto;\n",
              "}\n",
              "#h2o-table-4 .h2o-table {\n",
              "  /* width: 100%; */\n",
              "  margin-top: 1em;\n",
              "  margin-bottom: 1em;\n",
              "}\n",
              "#h2o-table-4 .h2o-table caption {\n",
              "  white-space: nowrap;\n",
              "  caption-side: top;\n",
              "  text-align: left;\n",
              "  /* margin-left: 1em; */\n",
              "  margin: 0;\n",
              "  font-size: larger;\n",
              "}\n",
              "#h2o-table-4 .h2o-table thead {\n",
              "  white-space: nowrap; \n",
              "  position: sticky;\n",
              "  top: 0;\n",
              "  box-shadow: 0 -1px inset;\n",
              "}\n",
              "#h2o-table-4 .h2o-table tbody {\n",
              "  overflow: auto;\n",
              "}\n",
              "#h2o-table-4 .h2o-table th,\n",
              "#h2o-table-4 .h2o-table td {\n",
              "  text-align: right;\n",
              "  /* border: 1px solid; */\n",
              "}\n",
              "#h2o-table-4 .h2o-table tr:nth-child(even) {\n",
              "  /* background: #F5F5F5 */\n",
              "}\n",
              "\n",
              "</style>      \n",
              "<div id=\"h2o-table-4\" class=\"h2o-container\">\n",
              "  <table class=\"h2o-table\">\n",
              "    <caption>Scoring History: </caption>\n",
              "    <thead><tr><th></th>\n",
              "<th>timestamp</th>\n",
              "<th>duration</th>\n",
              "<th>iteration</th>\n",
              "<th>lambda</th>\n",
              "<th>predictors</th>\n",
              "<th>deviance_train</th>\n",
              "<th>deviance_xval</th>\n",
              "<th>deviance_se</th>\n",
              "<th>alpha</th>\n",
              "<th>iterations</th>\n",
              "<th>training_rmse</th>\n",
              "<th>training_deviance</th>\n",
              "<th>training_mae</th>\n",
              "<th>training_r2</th></tr></thead>\n",
              "    <tbody><tr><td></td>\n",
              "<td>2023-10-31 23:40:50</td>\n",
              "<td> 0.000 sec</td>\n",
              "<td>1</td>\n",
              "<td>.4E2</td>\n",
              "<td>50715</td>\n",
              "<td>0.4114308</td>\n",
              "<td>0.3010779</td>\n",
              "<td>0.0598974</td>\n",
              "<td>0.0</td>\n",
              "<td>None</td>\n",
              "<td></td>\n",
              "<td></td>\n",
              "<td></td>\n",
              "<td></td></tr>\n",
              "<tr><td></td>\n",
              "<td>2023-10-31 23:40:54</td>\n",
              "<td> 3.762 sec</td>\n",
              "<td>2</td>\n",
              "<td>.29E2</td>\n",
              "<td>50715</td>\n",
              "<td>0.3652588</td>\n",
              "<td>0.2100421</td>\n",
              "<td>0.0200049</td>\n",
              "<td>0.0</td>\n",
              "<td>None</td>\n",
              "<td></td>\n",
              "<td></td>\n",
              "<td></td>\n",
              "<td></td></tr>\n",
              "<tr><td></td>\n",
              "<td>2023-10-31 23:40:58</td>\n",
              "<td> 7.887 sec</td>\n",
              "<td>3</td>\n",
              "<td>.21E2</td>\n",
              "<td>50715</td>\n",
              "<td>0.3307755</td>\n",
              "<td>0.2362859</td>\n",
              "<td>0.0327927</td>\n",
              "<td>0.0</td>\n",
              "<td>3</td>\n",
              "<td>0.4273516</td>\n",
              "<td>0.1826294</td>\n",
              "<td>0.4140290</td>\n",
              "<td>0.2603509</td></tr></tbody>\n",
              "  </table>\n",
              "</div>\n",
              "</div>\n",
              "<div style='margin: 1em 0 1em 0;'>\n",
              "<style>\n",
              "\n",
              "#h2o-table-5.h2o-container {\n",
              "  overflow-x: auto;\n",
              "}\n",
              "#h2o-table-5 .h2o-table {\n",
              "  /* width: 100%; */\n",
              "  margin-top: 1em;\n",
              "  margin-bottom: 1em;\n",
              "}\n",
              "#h2o-table-5 .h2o-table caption {\n",
              "  white-space: nowrap;\n",
              "  caption-side: top;\n",
              "  text-align: left;\n",
              "  /* margin-left: 1em; */\n",
              "  margin: 0;\n",
              "  font-size: larger;\n",
              "}\n",
              "#h2o-table-5 .h2o-table thead {\n",
              "  white-space: nowrap; \n",
              "  position: sticky;\n",
              "  top: 0;\n",
              "  box-shadow: 0 -1px inset;\n",
              "}\n",
              "#h2o-table-5 .h2o-table tbody {\n",
              "  overflow: auto;\n",
              "}\n",
              "#h2o-table-5 .h2o-table th,\n",
              "#h2o-table-5 .h2o-table td {\n",
              "  text-align: right;\n",
              "  /* border: 1px solid; */\n",
              "}\n",
              "#h2o-table-5 .h2o-table tr:nth-child(even) {\n",
              "  /* background: #F5F5F5 */\n",
              "}\n",
              "\n",
              "</style>      \n",
              "<div id=\"h2o-table-5\" class=\"h2o-container\">\n",
              "  <table class=\"h2o-table\">\n",
              "    <caption>Variable Importances: </caption>\n",
              "    <thead><tr><th>variable</th>\n",
              "<th>relative_importance</th>\n",
              "<th>scaled_importance</th>\n",
              "<th>percentage</th></tr></thead>\n",
              "    <tbody><tr><td>C937</td>\n",
              "<td>0.0000391</td>\n",
              "<td>1.0</td>\n",
              "<td>0.0001125</td></tr>\n",
              "<tr><td>C938</td>\n",
              "<td>0.0000386</td>\n",
              "<td>0.9870716</td>\n",
              "<td>0.0001111</td></tr>\n",
              "<tr><td>C936</td>\n",
              "<td>0.0000380</td>\n",
              "<td>0.9718338</td>\n",
              "<td>0.0001094</td></tr>\n",
              "<tr><td>C910</td>\n",
              "<td>0.0000375</td>\n",
              "<td>0.9608709</td>\n",
              "<td>0.0001081</td></tr>\n",
              "<tr><td>C3093</td>\n",
              "<td>0.0000368</td>\n",
              "<td>0.9406017</td>\n",
              "<td>0.0001059</td></tr>\n",
              "<tr><td>C911</td>\n",
              "<td>0.0000366</td>\n",
              "<td>0.9378572</td>\n",
              "<td>0.0001055</td></tr>\n",
              "<tr><td>C909</td>\n",
              "<td>0.0000360</td>\n",
              "<td>0.9217199</td>\n",
              "<td>0.0001037</td></tr>\n",
              "<tr><td>C939</td>\n",
              "<td>0.0000359</td>\n",
              "<td>0.9185360</td>\n",
              "<td>0.0001034</td></tr>\n",
              "<tr><td>C940</td>\n",
              "<td>0.0000349</td>\n",
              "<td>0.8923438</td>\n",
              "<td>0.0001004</td></tr>\n",
              "<tr><td>C935</td>\n",
              "<td>0.0000348</td>\n",
              "<td>0.8910706</td>\n",
              "<td>0.0001003</td></tr>\n",
              "<tr><td>---</td>\n",
              "<td>---</td>\n",
              "<td>---</td>\n",
              "<td>---</td></tr>\n",
              "<tr><td>C28413</td>\n",
              "<td>0.0000000</td>\n",
              "<td>0.0000511</td>\n",
              "<td>0.0000000</td></tr>\n",
              "<tr><td>C33587</td>\n",
              "<td>0.0000000</td>\n",
              "<td>0.0000441</td>\n",
              "<td>0.0000000</td></tr>\n",
              "<tr><td>C13960</td>\n",
              "<td>0.0000000</td>\n",
              "<td>0.0000354</td>\n",
              "<td>0.0000000</td></tr>\n",
              "<tr><td>C34348</td>\n",
              "<td>0.0000000</td>\n",
              "<td>0.0000350</td>\n",
              "<td>0.0000000</td></tr>\n",
              "<tr><td>C45158</td>\n",
              "<td>0.0000000</td>\n",
              "<td>0.0000317</td>\n",
              "<td>0.0000000</td></tr>\n",
              "<tr><td>C43800</td>\n",
              "<td>0.0000000</td>\n",
              "<td>0.0000282</td>\n",
              "<td>0.0000000</td></tr>\n",
              "<tr><td>C2470</td>\n",
              "<td>0.0000000</td>\n",
              "<td>0.0000268</td>\n",
              "<td>0.0000000</td></tr>\n",
              "<tr><td>C4656</td>\n",
              "<td>0.0000000</td>\n",
              "<td>0.0000191</td>\n",
              "<td>0.0000000</td></tr>\n",
              "<tr><td>C23033</td>\n",
              "<td>0.0000000</td>\n",
              "<td>0.0000055</td>\n",
              "<td>0.0000000</td></tr>\n",
              "<tr><td>C8591</td>\n",
              "<td>0.0000000</td>\n",
              "<td>0.0000043</td>\n",
              "<td>0.0000000</td></tr></tbody>\n",
              "  </table>\n",
              "</div>\n",
              "<pre style='font-size: smaller; margin-bottom: 1em;'>[50714 rows x 4 columns]</pre></div><pre style=\"font-size: smaller; margin: 1em 0 0 0;\">\n",
              "\n",
              "[tips]\n",
              "Use `model.explain()` to inspect the model.\n",
              "--\n",
              "Use `h2o.display.toggle_user_tips()` to switch on/off this section.</pre>"
            ]
          },
          "metadata": {},
          "execution_count": 29
        }
      ]
    },
    {
      "cell_type": "code",
      "source": [
        "# View the leaderboard\n",
        "lb = aml.leaderboard\n",
        "print(lb.head(rows=lb.nrows))\n",
        "\n",
        "# Predict using the leader model\n",
        "preds = aml.leader.predict(test)\n",
        "\n",
        "# Calculate performance metrics\n",
        "performance = aml.leader.model_performance(test)\n",
        "print(performance)"
      ],
      "metadata": {
        "colab": {
          "base_uri": "https://localhost:8080/"
        },
        "id": "-lJwuXdMFpAg",
        "outputId": "8aa70e2e-e202-40dc-9ccd-2ea23a02afbb"
      },
      "execution_count": 30,
      "outputs": [
        {
          "output_type": "stream",
          "name": "stdout",
          "text": [
            "model_id                                                     rmse       mse       mae     rmsle    mean_residual_deviance\n",
            "GLM_1_AutoML_1_20231031_233440                           0.457203  0.209035  0.437108  0.325939                  0.209035\n",
            "StackedEnsemble_BestOfFamily_1_AutoML_1_20231031_233440  0.486691  0.236868  0.472719  0.340408                  0.236868\n",
            "XGBoost_1_AutoML_1_20231031_233440                       0.50007   0.25007   0.494518  0.349699                  0.25007\n",
            "XGBoost_2_AutoML_1_20231031_233440                       0.501739  0.251742  0.501667  0.359593                  0.251742\n",
            "StackedEnsemble_BestOfFamily_2_AutoML_1_20231031_233440  0.506154  0.256191  0.500443  0.356786                  0.256191\n",
            "StackedEnsemble_AllModels_1_AutoML_1_20231031_233440     0.552379  0.305122  0.539159  0.390809                  0.305122\n",
            "DRF_1_AutoML_1_20231031_233440                           0.808484  0.653646  0.659722  0.56175                   0.653646\n",
            "[7 rows x 6 columns]\n",
            "\n",
            "glm prediction progress: |███████████████████████████████████████████████████████| (done) 100%\n",
            "ModelMetricsRegressionGLM: glm\n",
            "** Reported on test data. **\n",
            "\n",
            "MSE: 0.277755005693009\n",
            "RMSE: 0.5270246727554688\n",
            "MAE: 0.5238361647693284\n",
            "RMSLE: 0.30698723557202273\n",
            "Mean Residual Deviance: 0.277755005693009\n",
            "R^2: -Infinity\n",
            "Null degrees of freedom: 1\n",
            "Residual degrees of freedom: -50713\n",
            "Null deviance: 0.617283950617284\n",
            "Residual deviance: 0.555510011386018\n",
            "AIC: 101435.11372247616\n"
          ]
        }
      ]
    },
    {
      "cell_type": "code",
      "source": [
        "h2o.cluster().shutdown()"
      ],
      "metadata": {
        "id": "AcrHiw6KIRFq"
      },
      "execution_count": 32,
      "outputs": []
    }
  ]
}